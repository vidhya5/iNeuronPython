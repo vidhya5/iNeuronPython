{
 "cells": [
  {
   "cell_type": "code",
   "execution_count": 8,
   "metadata": {},
   "outputs": [
    {
     "data": {
      "text/plain": [
       "64"
      ]
     },
     "execution_count": 8,
     "metadata": {},
     "output_type": "execute_result"
    }
   ],
   "source": [
    "def powerNew(x,y):\n",
    "    return x**y;\n",
    "\n",
    "def myOwnReduce(x, y):\n",
    "    first = y[0];\n",
    "    for i in y[1:]:\n",
    "        first = x(first, i);\n",
    "    return first;\n",
    "\n",
    "myOwnReduce(powerNew,[2,2,3])"
   ]
  },
  {
   "cell_type": "code",
   "execution_count": 21,
   "metadata": {},
   "outputs": [
    {
     "name": "stdout",
     "output_type": "stream",
     "text": [
      "[1, 4]\n"
     ]
    }
   ],
   "source": [
    "def functionV(x):\n",
    "    if x < 0:\n",
    "        return False;\n",
    "    else:\n",
    "        return True;\n",
    "\n",
    "def filterV(x, y):\n",
    "    List =[];\n",
    "    for i in y:\n",
    "        if(x(i)):\n",
    "            List.append(i);\n",
    "    return List;\n",
    "    \n",
    " \n",
    "print(filterV(functionV,[1,-3,4]))"
   ]
  },
  {
   "cell_type": "code",
   "execution_count": 1,
   "metadata": {},
   "outputs": [
    {
     "name": "stdout",
     "output_type": "stream",
     "text": [
      "['A', 'C', 'A', 'D', 'G', 'I', 'L', 'D']\n"
     ]
    }
   ],
   "source": [
    "h_letters = []\n",
    "\n",
    "for letter in 'ACADGILD':\n",
    "    h_letters.append(letter)\n",
    "\n",
    "print(h_letters)"
   ]
  },
  {
   "cell_type": "code",
   "execution_count": 12,
   "metadata": {},
   "outputs": [
    {
     "name": "stdout",
     "output_type": "stream",
     "text": [
      "['x', 'xx', 'xxx', 'xxxx', 'y', 'yy', 'yyy', 'yyyy', 'z', 'zz', 'zzz', 'zzzz']\n"
     ]
    }
   ],
   "source": [
    "h_letters = []\n",
    "\n",
    "for letter in 'xyz':\n",
    "    for i in range(1, 5):\n",
    "        h_letters.append(letter.ljust(i,letter))\n",
    "\n",
    "print(h_letters)"
   ]
  },
  {
   "cell_type": "code",
   "execution_count": 14,
   "metadata": {},
   "outputs": [
    {
     "name": "stdout",
     "output_type": "stream",
     "text": [
      "['x', 'y', 'z', 'xx', 'yy', 'zz', 'xx', 'yy', 'zz', 'xxxx', 'yyyy', 'zzzz']\n"
     ]
    }
   ],
   "source": [
    "h_letters = []\n",
    "\n",
    "for i in [1,2,2,4]:\n",
    "    for letter in 'xyz':\n",
    "            h_letters.append(letter.ljust(i,letter))\n",
    "\n",
    "print(h_letters)"
   ]
  },
  {
   "cell_type": "code",
   "execution_count": 17,
   "metadata": {},
   "outputs": [
    {
     "name": "stdout",
     "output_type": "stream",
     "text": [
      "[[2], [3], [4], [3], [4], [5], [4], [5], [6]]\n"
     ]
    }
   ],
   "source": [
    "h_letters = []\n",
    "\n",
    "for i in [2,3,4]:\n",
    "    for j in range(0,3):\n",
    "            h_letters.append([i+j])\n",
    "\n",
    "print(h_letters)"
   ]
  },
  {
   "cell_type": "code",
   "execution_count": 20,
   "metadata": {},
   "outputs": [
    {
     "name": "stdout",
     "output_type": "stream",
     "text": [
      "[[2, 3, 4, 5], [3, 4, 5, 6], [4, 5, 6, 7], [5, 6, 7, 8]]\n"
     ]
    }
   ],
   "source": [
    "h_letters = []\n",
    "\n",
    "for i in [2,3,4,5]:\n",
    "    a=[]\n",
    "    for j in range(0,4):\n",
    "            a.append(i+j)\n",
    "    h_letters.append(a)\n",
    "\n",
    "print(h_letters)"
   ]
  },
  {
   "cell_type": "code",
   "execution_count": 46,
   "metadata": {},
   "outputs": [
    {
     "name": "stdout",
     "output_type": "stream",
     "text": [
      "[(1, 1), (2, 1), (3, 1), (1, 2), (2, 2), (3, 2), (1, 3), (2, 3), (3, 3)]\n"
     ]
    }
   ],
   "source": [
    "h_letters = []\n",
    "\n",
    "for i in range(1,4):\n",
    "    for j in range(1,4):\n",
    "        h_letters.append((j,i))\n",
    "    \n",
    "\n",
    "print(h_letters)"
   ]
  },
  {
   "cell_type": "code",
   "execution_count": 25,
   "metadata": {},
   "outputs": [
    {
     "data": {
      "text/plain": [
       "'again'"
      ]
     },
     "execution_count": 25,
     "metadata": {},
     "output_type": "execute_result"
    }
   ],
   "source": [
    "def longestWord(a):\n",
    "    longWord =a[0];\n",
    "    for i in a:\n",
    "        if  len(i)>len(longWord):\n",
    "            longWord=i;\n",
    "            \n",
    "    return longWord;\n",
    "\n",
    "\n",
    "longestWord(['test','me','again'])\n",
    "            \n",
    "    \n"
   ]
  },
  {
   "cell_type": "code",
   "execution_count": 26,
   "metadata": {},
   "outputs": [
    {
     "data": {
      "text/plain": [
       "18.973665961010276"
      ]
     },
     "execution_count": 26,
     "metadata": {},
     "output_type": "execute_result"
    }
   ],
   "source": [
    "def findArea(a,b,c):\n",
    "    s=a+b+c;\n",
    "    return ((s*(s-a)*(s-b)*(s-c)) ** 0.5);\n",
    "\n",
    "findArea(1,2,3)"
   ]
  },
  {
   "cell_type": "code",
   "execution_count": 28,
   "metadata": {},
   "outputs": [
    {
     "data": {
      "text/plain": [
       "['again']"
      ]
     },
     "execution_count": 28,
     "metadata": {},
     "output_type": "execute_result"
    }
   ],
   "source": [
    "def filterLongWorder(a,b):\n",
    "    longWord =[];\n",
    "    for i in a:\n",
    "        if  len(i)>b:\n",
    "            longWord.append(i);\n",
    "            \n",
    "    return longWord;\n",
    "\n",
    "\n",
    "filterLongWorder(['test','me','again'],4)\n",
    "            "
   ]
  },
  {
   "cell_type": "code",
   "execution_count": 30,
   "metadata": {},
   "outputs": [
    {
     "data": {
      "text/plain": [
       "[4, 2, 5]"
      ]
     },
     "execution_count": 30,
     "metadata": {},
     "output_type": "execute_result"
    }
   ],
   "source": [
    "def wordLengthMapper(a):\n",
    "    longWord =[];\n",
    "    for i in a:\n",
    "        longWord.append(len(i));\n",
    "            \n",
    "    return longWord;\n",
    "\n",
    "\n",
    "wordLengthMapper(['test','me','again'])"
   ]
  },
  {
   "cell_type": "code",
   "execution_count": 42,
   "metadata": {},
   "outputs": [
    {
     "name": "stdout",
     "output_type": "stream",
     "text": [
      "False\n",
      "True\n"
     ]
    }
   ],
   "source": [
    "def isVowel(a):\n",
    "    vowels='aeiou';\n",
    "    if(vowels.find(a.lower())>-1):\n",
    "        return True;\n",
    "    else:\n",
    "        return False;\n",
    "    \n",
    "print(isVowel('b')); \n",
    "print(isVowel('U')); \n"
   ]
  }
 ],
 "metadata": {
  "kernelspec": {
   "display_name": "Python 3",
   "language": "python",
   "name": "python3"
  },
  "language_info": {
   "codemirror_mode": {
    "name": "ipython",
    "version": 3
   },
   "file_extension": ".py",
   "mimetype": "text/x-python",
   "name": "python",
   "nbconvert_exporter": "python",
   "pygments_lexer": "ipython3",
   "version": "3.7.6"
  }
 },
 "nbformat": 4,
 "nbformat_minor": 4
}
